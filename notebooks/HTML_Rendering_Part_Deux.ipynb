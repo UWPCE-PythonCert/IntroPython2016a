{
 "cells": [
  {
   "cell_type": "markdown",
   "metadata": {},
   "source": [
    "### Recap Step 2\n",
    "\n",
    "- We can render a basic web page\n",
    "- We can handle html, body and p tags\n",
    "- Everything is indented nicely"
   ]
  },
  {
   "cell_type": "code",
   "execution_count": 6,
   "metadata": {
    "collapsed": true
   },
   "outputs": [],
   "source": [
    "class Element(object):\n",
    "\n",
    "    tag = 'html'  # shouldn't really be usable without properly subclassing\n",
    "    indent = '    '\n",
    "\n",
    "    def __init__(self, content=None, **attributes):\n",
    "\n",
    "        self.content = []\n",
    "        # adding attributes dictionary\n",
    "        self.attributes = attributes\n",
    "\n",
    "        if content is not None:\n",
    "            self.content.append(content)\n",
    "\n",
    "    def append(self, content):\n",
    "        self.content.append(content)\n",
    "\n",
    "    # added render tag method to deal with any type of tag at indentation level\n",
    "    def render_tag(self, current_ind):\n",
    "        # tag and then content for each class\n",
    "        attrs = \"\".join([' {}=\"{}\"'.format(key, val) for key, val in self.attributes.items()])\n",
    "        # indetation + tag + content\n",
    "        tag_str = \"{}<{}{}>\".format(current_ind, self.tag, attrs)\n",
    "        return tag_str\n",
    "\n",
    "    def render(self, file_out, current_ind=\"\"):\n",
    "        # render method now calls the render tag method instead of just a string\n",
    "        file_out.write(self.render_tag(current_ind))\n",
    "        file_out.write('\\n')\n",
    "        for con in self.content:\n",
    "            try:\n",
    "                file_out.write(current_ind + self.indent + con+\"\\n\")\n",
    "            except TypeError:\n",
    "                con.render(file_out, current_ind+self.indent)\n",
    "        # write out closing tag\n",
    "        file_out.write(\"{}</{}>\\n\".format(current_ind, self.tag))\n",
    "        \n",
    "class Body(Element):\n",
    "    tag = 'body'\n",
    "\n",
    "class P(Element):\n",
    "    tag = 'p'\n",
    "    \n",
    "class Html(Element):\n",
    "    tag = 'html'"
   ]
  },
  {
   "cell_type": "markdown",
   "metadata": {},
   "source": [
    "## Step 3"
   ]
  },
  {
   "cell_type": "markdown",
   "metadata": {},
   "source": [
    "- Create a subclass for a head tag\n",
    "- Create a OneLineTag subclass of Element\n",
    "    - Override the render method to render everything on one line\n",
    "- Create a Title subclass of OneLineTag\n",
    "\n",
    "#### Goal\n",
    "- Render an html doc with a head, title, body and p elements"
   ]
  },
  {
   "cell_type": "markdown",
   "metadata": {},
   "source": [
    "### Create a subclass for a head tag"
   ]
  },
  {
   "cell_type": "code",
   "execution_count": 7,
   "metadata": {
    "collapsed": true
   },
   "outputs": [],
   "source": [
    "class Head(Element):\n",
    "    tag = 'head'"
   ]
  },
  {
   "cell_type": "markdown",
   "metadata": {},
   "source": [
    "### Create a OneLineTag subclass of element\n",
    "\n",
    "- override render method to render everything between a tag on one line"
   ]
  },
  {
   "cell_type": "markdown",
   "metadata": {},
   "source": [
    "#### Overriding \n",
    "\n",
    "- Changing the implementation of a method provided by a parent class. \n",
    "- Copy another class, avoiding duplication, but customize and enhance to fit your needs\n",
    "- Define in the child class a method with the same name as the method in the parent class\n",
    "- Good practice: call the original implementation of a method whenever possible (super())\n",
    "\n",
    "Great tutorial [here](http://lgiordani.com/blog/2014/05/19/method-overriding-in-python/#.VtO-ER9ytBQ)"
   ]
  },
  {
   "cell_type": "code",
   "execution_count": 3,
   "metadata": {
    "collapsed": true
   },
   "outputs": [],
   "source": [
    "class Parent(object):\n",
    "    def __init__(self):\n",
    "        self.value = 5\n",
    "\n",
    "    def get_value(self):\n",
    "        return self.value\n",
    "\n",
    "class Child(Parent):\n",
    "    def get_value(self):\n",
    "        return self.value + 1"
   ]
  },
  {
   "cell_type": "code",
   "execution_count": 4,
   "metadata": {
    "collapsed": false
   },
   "outputs": [
    {
     "data": {
      "text/plain": [
       "6"
      ]
     },
     "execution_count": 4,
     "metadata": {},
     "output_type": "execute_result"
    }
   ],
   "source": [
    "c = Child()\n",
    "\n",
    "c.get_value()"
   ]
  },
  {
   "cell_type": "markdown",
   "metadata": {},
   "source": [
    "#### Here's our original render method"
   ]
  },
  {
   "cell_type": "code",
   "execution_count": null,
   "metadata": {
    "collapsed": true
   },
   "outputs": [],
   "source": [
    "def render(self, file_out, current_ind=\"\"):\n",
    "        # render method now calls the render tag method instead of just a string\n",
    "        file_out.write(self.render_tag(current_ind))\n",
    "        file_out.write('\\n')\n",
    "        for con in self.content:\n",
    "            try:\n",
    "                file_out.write(current_ind + self.indent + con+\"\\n\")\n",
    "            except TypeError:\n",
    "                con.render(file_out, current_ind+self.indent)\n",
    "        # write out closing tag\n",
    "        file_out.write(\"{}</{}>\\n\".format(current_ind, self.tag))"
   ]
  },
  {
   "cell_type": "markdown",
   "metadata": {},
   "source": [
    "#### Render everything on one line"
   ]
  },
  {
   "cell_type": "code",
   "execution_count": 8,
   "metadata": {
    "collapsed": false
   },
   "outputs": [],
   "source": [
    "class OneLineTag(Element):\n",
    "    def render(self, file_out, current_ind=''):\n",
    "        # remove the new line \n",
    "        file_out.write(self, render_tag(current_ind))\n",
    "        for con in self.content:\n",
    "            # skip the indentation\n",
    "            file_out.write(con)\n",
    "        file_out.write(\"</{}>\\n\".format(self.tag))"
   ]
  },
  {
   "cell_type": "markdown",
   "metadata": {},
   "source": [
    "#### Put it all together for Step 3"
   ]
  },
  {
   "cell_type": "code",
   "execution_count": 9,
   "metadata": {
    "collapsed": true
   },
   "outputs": [],
   "source": [
    "class Element(object):\n",
    "\n",
    "    tag = 'html'  # shouldn't really be usable without properly subclassing\n",
    "    indent = '    '\n",
    "\n",
    "    def __init__(self, content=None, **attributes):\n",
    "\n",
    "        self.content = []\n",
    "        # adding attributes dictionary\n",
    "        self.attributes = attributes\n",
    "\n",
    "        if content is not None:\n",
    "            self.content.append(content)\n",
    "\n",
    "    def append(self, content):\n",
    "        self.content.append(content)\n",
    "\n",
    "    # added render tag method to deal with any type of tag at indentation level\n",
    "    def render_tag(self, current_ind):\n",
    "        # tag and then content for each class\n",
    "        attrs = \"\".join([' {}=\"{}\"'.format(key, val) for key, val in self.attributes.items()])\n",
    "        # indetation + tag + content\n",
    "        tag_str = \"{}<{}{}>\".format(current_ind, self.tag, attrs)\n",
    "        return tag_str\n",
    "\n",
    "    def render(self, file_out, current_ind=\"\"):\n",
    "        # render method now calls the render tag method instead of just a string\n",
    "        file_out.write(self.render_tag(current_ind))\n",
    "        file_out.write('\\n')\n",
    "        for con in self.content:\n",
    "            try:\n",
    "                file_out.write(current_ind + self.indent + con+\"\\n\")\n",
    "            except TypeError:\n",
    "                con.render(file_out, current_ind+self.indent)\n",
    "        # write out closing tag\n",
    "        file_out.write(\"{}</{}>\\n\".format(current_ind, self.tag))\n",
    "        \n",
    "class Body(Element):\n",
    "    tag = 'body'\n",
    "\n",
    "class P(Element):\n",
    "    tag = 'p'\n",
    "    \n",
    "class Html(Element):\n",
    "    tag = 'html'\n",
    "    \n",
    "class Head(Element):\n",
    "    tag = 'head'\n",
    "    \n",
    "class OneLineTag(Element):\n",
    "    def render(self, file_out, current_ind=''):\n",
    "        # remove the new line \n",
    "        file_out.write(self, render_tag(current_ind))\n",
    "        for con in self.content:\n",
    "            # skip the indentation\n",
    "            file_out.write(con)\n",
    "        file_out.write(\"</{}>\\n\".format(self.tag))"
   ]
  },
  {
   "cell_type": "code",
   "execution_count": null,
   "metadata": {
    "collapsed": true
   },
   "outputs": [],
   "source": []
  },
  {
   "cell_type": "markdown",
   "metadata": {},
   "source": [
    "## Step 4\n",
    "\n",
    "- Extend Element class to accept attributes as keywords (**kwargs)\n",
    "- Update render method to work with attributes\n",
    "\n",
    "#### Goal\n",
    "Render tags with attributes"
   ]
  },
  {
   "cell_type": "code",
   "execution_count": null,
   "metadata": {
    "collapsed": true
   },
   "outputs": [],
   "source": [
    " def __init__(self, content=None, **attributes):\n",
    "\n",
    "        self.content = []\n",
    "        # adding attributes dictionary\n",
    "        self.attributes = attributes\n",
    "\n",
    "        if content is not None:\n",
    "            self.content.append(content)\n",
    "            \n",
    "# added render tag method to deal with any type of tag at indentation level\n",
    "    def render_tag(self, current_ind):\n",
    "        # tag and then content for each class\n",
    "        attrs = \"\".join([' {}=\"{}\"'.format(key, val) for key, val in self.attributes.items()])\n",
    "        # indetation + tag + content\n",
    "        tag_str = \"{}<{}{}>\".format(current_ind, self.tag, attrs)\n",
    "        return tag_str"
   ]
  },
  {
   "cell_type": "markdown",
   "metadata": {},
   "source": [
    "## Step 5\n",
    "\n",
    "- Create a SelfClosingTag subclass to render things like horizontal rule and line breaks\n",
    "    - < hr /> \n",
    "    - < br />\n",
    "- Override render method to render just one tag and attributes (if any)\n",
    "- Create subclasses of SelfClosingTag for < hr /> and < br /> "
   ]
  },
  {
   "cell_type": "code",
   "execution_count": null,
   "metadata": {
    "collapsed": true
   },
   "outputs": [],
   "source": [
    "class SelfClosingTag(Element):\n",
    "    def render(self, file_out, current_ind=''):\n",
    "        # calling render tag, but not adding the regular closing\n",
    "        file_out.write(self.render_tag(current_ind)[:-1])\n",
    "        # adding the self-closing tag instead\n",
    "        file_out.write(\" />\\n\")"
   ]
  },
  {
   "cell_type": "code",
   "execution_count": null,
   "metadata": {
    "collapsed": true
   },
   "outputs": [],
   "source": [
    "class Hr(SelfClosingTag):\n",
    "    tag = 'hr'\n",
    "\n",
    "class Br(SelfClosingTag):\n",
    "    tag = 'br'"
   ]
  },
  {
   "cell_type": "markdown",
   "metadata": {},
   "source": [
    "## Step 6\n",
    "\n",
    "- Create an A class for anchor (link) element \n",
    "- A(self, link, content)\n",
    "    - link = link\n",
    "    - content is the text that contains the link, such as \"Click here!\"\n",
    "-  Override the \\__init__ from Element"
   ]
  },
  {
   "cell_type": "code",
   "execution_count": null,
   "metadata": {
    "collapsed": true
   },
   "outputs": [],
   "source": [
    "class A(Element):\n",
    "    # define our tag\n",
    "    tag = 'a'\n",
    "\n",
    "    # override init method using constructor given in hw\n",
    "    def __init__(self, link, content=None, **attributes):\n",
    "        Element.__init__(self, content, **attributes)\n",
    "        # pulling out the link from the attributes dictionary\n",
    "        self.attributes[\"href\"] = link"
   ]
  },
  {
   "cell_type": "markdown",
   "metadata": {},
   "source": [
    "## Step 7\n",
    "- Create ul class for unordered lists, as a subclass of Element\n",
    "- Create a li class for ordered lists, subclass of Element\n",
    "- Create a Header class that takes an int argumentfor header level < h1 > < h2 > etc\n",
    "    - Called like H(2, \"Text of header\") for an < h2 > header\n",
    "    - Subclass OneLineTag\n",
    "        - Overriding the \\__init__\n",
    "        - Then calling superclass \\__init"
   ]
  },
  {
   "cell_type": "code",
   "execution_count": null,
   "metadata": {
    "collapsed": true
   },
   "outputs": [],
   "source": [
    "class Ul(Element):\n",
    "    tag = 'ul'\n",
    "    \n",
    "class Li(Element):\n",
    "    tag = 'li'"
   ]
  },
  {
   "cell_type": "code",
   "execution_count": null,
   "metadata": {
    "collapsed": true
   },
   "outputs": [],
   "source": [
    "class H(OneLineTag):\n",
    "    def __init__(self, level, content=None, **attributes):\n",
    "        OneLineTag.__init__(self, content, **attributes)\n",
    "        self.tag = \"h{:d}\".format(level)"
   ]
  },
  {
   "cell_type": "markdown",
   "metadata": {},
   "source": [
    "## Step 8"
   ]
  },
  {
   "cell_type": "markdown",
   "metadata": {},
   "source": [
    "- Update HTML Element to render < !DOCTYPE html > tags\n",
    "    - Subclass Element and override render()\n",
    "    - Call Element render from new render\n",
    "- Create subclass of SelfClosingTag for < meta charset=\"UTF 8\" /> \n",
    "    - Like the Hr subclass\n",
    "    - Add Meta Element to beginning of head element to encode your document"
   ]
  },
  {
   "cell_type": "code",
   "execution_count": null,
   "metadata": {
    "collapsed": true
   },
   "outputs": [],
   "source": [
    "class Html(Element):\n",
    "    tag = 'html'\n",
    "\n",
    "    def render(self, file_out, current_ind=\"\"):\n",
    "        file_out.write(\"<!DOCTYPE html>\\n\")\n",
    "        Element.render(self, file_out, current_ind=current_ind)"
   ]
  },
  {
   "cell_type": "markdown",
   "metadata": {},
   "source": [
    "#### charset\n",
    "\n",
    "To display a page properly, the browser must know the character set used on the page. This is specified in the meta tag. \n",
    "\n",
    "< meta charset=\"UTF-8\" >"
   ]
  },
  {
   "cell_type": "code",
   "execution_count": null,
   "metadata": {
    "collapsed": true
   },
   "outputs": [],
   "source": [
    "class Meta(SelfClosingTag):\n",
    "    tag = \"meta\"\n",
    "\n",
    "    def __init__(self, content=None, **attributes):\n",
    "        # give it a default value for charset\n",
    "        if \"charset\" not in attributes:\n",
    "            attributes['charset'] = \"UTF-8\"\n",
    "        SelfClosingTag.__init__(self, content, **attributes)"
   ]
  }
 ],
 "metadata": {
  "kernelspec": {
   "display_name": "Python 3",
   "language": "python",
   "name": "python3"
  },
  "language_info": {
   "codemirror_mode": {
    "name": "ipython",
    "version": 3
   },
   "file_extension": ".py",
   "mimetype": "text/x-python",
   "name": "python",
   "nbconvert_exporter": "python",
   "pygments_lexer": "ipython3",
   "version": "3.5.2"
  }
 },
 "nbformat": 4,
 "nbformat_minor": 0
}
