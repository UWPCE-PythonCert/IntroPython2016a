{
 "cells": [
  {
   "cell_type": "markdown",
   "metadata": {},
   "source": [
    "## Overview of Basic HTML syntax"
   ]
  },
  {
   "cell_type": "code",
   "execution_count": null,
   "metadata": {
    "collapsed": true
   },
   "outputs": [],
   "source": [
    "# let the renderer know this is html\n",
    "<!DOCTYPE html>\n",
    "\n",
    "# document starts here\n",
    "<html>\n",
    "\n",
    "    # tags label different sections with the format\n",
    "    # <start tag> \n",
    "    # stuff in here\n",
    "    # </ end tag>\n",
    "    <head>\n",
    "        <meta charset=\"UTF-8\" />\n",
    "        <title>PythonClass = Revision 1087:</title>\n",
    "    </head>\n",
    "    <body>\n",
    "        # h1, h2, h3 = heading types\n",
    "        <h2>PythonClass - Class 6 example</h2>\n",
    "        \n",
    "        # p = paragraph and defining attributes\n",
    "        <p style=\"text-align: center; font-style: oblique;\">\n",
    "            Here is a paragraph of text -- there could be more of them, \n",
    "            but this is enough  to show that we can do some text\n",
    "        </p>\n",
    "        \n",
    "        # hr = horizontal rule\n",
    "        <hr />\n",
    "        \n",
    "        # ul = unordered list\n",
    "        <ul style=\"line-height:200%\" id=\"TheList\">\n",
    "            # li = list item, will show as bullets\n",
    "            <li>\n",
    "                The first item in a list\n",
    "            </li>\n",
    "            <li style=\"color: red\">\n",
    "                This is the second item\n",
    "            </li>\n",
    "            <li>\n",
    "                And this is a \n",
    "                # anchor tag for html link\n",
    "                <a href=\"http://google.com\">link</a>\n",
    "                to google\n",
    "            </li>\n",
    "        </ul>\n",
    "    </body>\n",
    "</html>\n",
    "# ^ closing all the things"
   ]
  },
  {
   "cell_type": "markdown",
   "metadata": {},
   "source": [
    "## Assignment"
   ]
  },
  {
   "cell_type": "markdown",
   "metadata": {},
   "source": [
    "Goal: Create a set of classes that will make this syntax a lot prettier to read"
   ]
  },
  {
   "cell_type": "markdown",
   "metadata": {},
   "source": [
    "## HTML Rendering Script"
   ]
  },
  {
   "cell_type": "markdown",
   "metadata": {},
   "source": [
    "https://github.com/UWPCE-PythonCert/IntroPython2016a/blob/master/Examples/Session07/html_render/run_html_render.py\n",
    "\n",
    "- Broken down into steps\n",
    "- Uncomment each step as you work through \n",
    "- Encourages using test-driven development"
   ]
  },
  {
   "cell_type": "markdown",
   "metadata": {
    "collapsed": true
   },
   "source": [
    "## Review of OOP Basics"
   ]
  },
  {
   "cell_type": "markdown",
   "metadata": {},
   "source": [
    "#### What is a class? \n",
    " - Logical grouping of data and functions\n",
    " - Instruction manual for constructing objects, not the actual creation\n",
    " \n",
    " The following example is from:   \n",
    " https://www.jeffknupp.com/blog/2014/06/18/improve-your-python-python-classes-and-object-oriented-programming/\n",
    " "
   ]
  },
  {
   "cell_type": "code",
   "execution_count": 1,
   "metadata": {
    "collapsed": true
   },
   "outputs": [],
   "source": [
    "class Customer(object):\n",
    "    \"\"\"A customer of ABC Bank with a checking account. Customers have the\n",
    "    following properties:\n",
    "\n",
    "    Attributes:\n",
    "        name: A string representing the customer's name.\n",
    "        balance: A float tracking the current balance of the customer's account.\n",
    "    \"\"\"\n",
    "\n",
    "    def __init__(self, name, balance=0.0):\n",
    "        \"\"\"Return a Customer object whose name is *name* and starting\n",
    "        balance is *balance*.\"\"\"\n",
    "        self.name = name\n",
    "        self.balance = balance\n",
    "\n",
    "    def withdraw(self, amount):\n",
    "        \"\"\"Return the balance remaining after withdrawing *amount*\n",
    "        dollars.\"\"\"\n",
    "        if amount > self.balance:\n",
    "            raise RuntimeError('Amount greater than available balance.')\n",
    "        self.balance -= amount\n",
    "        return self.balance\n",
    "\n",
    "    def deposit(self, amount):\n",
    "        \"\"\"Return the balance remaining after depositing *amount*\n",
    "        dollars.\"\"\"\n",
    "        self.balance += amount\n",
    "        return self.balance"
   ]
  },
  {
   "cell_type": "markdown",
   "metadata": {},
   "source": [
    "#### How does this work? "
   ]
  },
  {
   "cell_type": "code",
   "execution_count": 2,
   "metadata": {
    "collapsed": false
   },
   "outputs": [],
   "source": [
    "#We create a customer object: \n",
    "steve = Customer(\"Steve Jobs\", 1000.00)"
   ]
  },
  {
   "cell_type": "code",
   "execution_count": 3,
   "metadata": {
    "collapsed": false
   },
   "outputs": [
    {
     "data": {
      "text/plain": [
       "<__main__.Customer at 0x7f9dc06ba940>"
      ]
     },
     "execution_count": 3,
     "metadata": {},
     "output_type": "execute_result"
    }
   ],
   "source": [
    "# steve is an instance of the Customer class\n",
    "steve"
   ]
  },
  {
   "cell_type": "markdown",
   "metadata": {},
   "source": [
    "### What does self do? \n",
    "\n",
    "def withdraw(self, amount)\n",
    "\n",
    "Self is a placeholder for whatever customer you create. So when you create Steve and call the withdraw function: \n",
    "\n",
    "     jeff.withdraw(100,000.00) \n",
    "\n",
    "This is shortand for Customer.withdraw(jeff, 100,000.00)\n"
   ]
  },
  {
   "cell_type": "markdown",
   "metadata": {},
   "source": [
    "### What is \\__init__ ? "
   ]
  },
  {
   "cell_type": "markdown",
   "metadata": {},
   "source": [
    "We use it to initialize objects (ready to use!), as in \n",
    "\n",
    "    self.name = name\n",
    "\n",
    "Self is the instance and is equivalent to:\n",
    "    \n",
    "    steve.name = 'Steve Jobs'\n",
    "    \n",
    "And self.balance = balance would be equivalent to:\n",
    "\n",
    "    steve.balance = 100,000.00"
   ]
  },
  {
   "cell_type": "markdown",
   "metadata": {},
   "source": [
    "### What is a Method? \n",
    "\n",
    "A function defined in a class"
   ]
  },
  {
   "cell_type": "markdown",
   "metadata": {},
   "source": [
    "### What are Attributes? \n",
    "\n",
    "#### Class attributes\n",
    "- Set at the class level\n",
    "- Hold for all instances of a class\n",
    "\n",
    "Example:\n",
    "\n",
    "    class Car(object):\n",
    "\n",
    "        wheels = 4\n",
    "\n",
    "        def __init__(self, make, model):\n",
    "            self.make = make\n",
    "            self.model = model\n",
    "\n",
    "A car will always have four wheels. \n",
    "\n",
    "### Instances\n",
    "A class is the blueprint, but the instance is a specific copy that contains all the content created from this blueprint. \n",
    "\n",
    "For example, a human class where Billy Bob is an instance of human class. \n",
    "\n",
    "#### Instance Attributes\n",
    "Declared inside an instance. "
   ]
  },
  {
   "cell_type": "markdown",
   "metadata": {
    "collapsed": true
   },
   "source": [
    "## Step 1\n",
    "\n",
    "#### Create an element class for rendering an html element"
   ]
  },
  {
   "cell_type": "code",
   "execution_count": 4,
   "metadata": {
    "collapsed": true
   },
   "outputs": [],
   "source": [
    "# class for rendering html elements\n",
    "class Element: \n",
    "    pass"
   ]
  },
  {
   "cell_type": "code",
   "execution_count": 5,
   "metadata": {
    "collapsed": false
   },
   "outputs": [
    {
     "data": {
      "text/plain": [
       "type"
      ]
     },
     "execution_count": 5,
     "metadata": {},
     "output_type": "execute_result"
    }
   ],
   "source": [
    "type(Element)"
   ]
  },
  {
   "cell_type": "markdown",
   "metadata": {},
   "source": [
    "#### Create class attributes for tag and indentation\n",
    "\n",
    "- Tag name = 'html'\n",
    "- Indentation = spaces to indent for pretty printing"
   ]
  },
  {
   "cell_type": "code",
   "execution_count": 6,
   "metadata": {
    "collapsed": true
   },
   "outputs": [],
   "source": [
    "# class for rendering html elements\n",
    "class Element: \n",
    "    \n",
    "    # define class attributes \n",
    "    tag = 'html'\n",
    "    indent = '    '"
   ]
  },
  {
   "cell_type": "markdown",
   "metadata": {},
   "source": [
    "#### Add initializer signature\n",
    "\n",
    "- Element(content=None)\n",
    "- Content is expected to be a string\n",
    "- Need way to store content that can be updated (list)"
   ]
  },
  {
   "cell_type": "code",
   "execution_count": 7,
   "metadata": {
    "collapsed": true
   },
   "outputs": [],
   "source": [
    "def __init__(self, content=None):\n",
    "    # store content\n",
    "    content = []\n",
    "    # check for content\n",
    "    if content is not None:\n",
    "        self.content.append(content)"
   ]
  },
  {
   "cell_type": "markdown",
   "metadata": {},
   "source": [
    "#### Add append method\n",
    "\n",
    "- Can add strings to content"
   ]
  },
  {
   "cell_type": "code",
   "execution_count": 8,
   "metadata": {
    "collapsed": false
   },
   "outputs": [],
   "source": [
    " def append(self, content):\n",
    "        self.content.append(content)"
   ]
  },
  {
   "cell_type": "markdown",
   "metadata": {},
   "source": [
    "#### Add render method\n",
    "\n",
    "- render(file_out, ind = \"\")\n",
    "- renders starting from html tag and any strings in content container\n",
    "- calls write()\n",
    "- file_out = file writer object\n",
    "- ind = string with indentation level from zero to lots of spaces, dependng on tree depth\n",
    "    - amt of indentation level set by class attribute indent"
   ]
  },
  {
   "cell_type": "code",
   "execution_count": 9,
   "metadata": {
    "collapsed": true
   },
   "outputs": [],
   "source": [
    "# we're given this\n",
    "def render(self, file_out, ind=\"\"):\n",
    "    \n",
    "    # takes a file-like object\n",
    "    \n",
    "    # calls write() method, writing html for a tag\n",
    "    \n",
    "    \n",
    "    pass"
   ]
  },
  {
   "cell_type": "code",
   "execution_count": 10,
   "metadata": {
    "collapsed": true
   },
   "outputs": [],
   "source": [
    "def render(self, file_out, ind=\"\"):\n",
    "    # calling write method on a file object\n",
    "    file_out.write()"
   ]
  },
  {
   "cell_type": "code",
   "execution_count": 11,
   "metadata": {
    "collapsed": true
   },
   "outputs": [],
   "source": [
    "def render(self, file_out, ind=\"\"):\n",
    "    file_out.write()"
   ]
  },
  {
   "cell_type": "markdown",
   "metadata": {},
   "source": [
    "#### How do we render what's in between the tags? "
   ]
  },
  {
   "cell_type": "markdown",
   "metadata": {},
   "source": [
    "<html>\n",
    "    Some content. Some more content.\n",
    "<\\html>"
   ]
  },
  {
   "cell_type": "code",
   "execution_count": 12,
   "metadata": {
    "collapsed": true
   },
   "outputs": [],
   "source": [
    "def render(self, file_out, ind=\"\"):\n",
    "    #start rendering at first html tag\n",
    "    start_tag = \"<{}>\".format(self.tag)\n",
    "    # add that start tag to your output\n",
    "    file_out.write(start_tag)\n",
    "    \n",
    "    # render in-between tag stuff here\n",
    "    \n",
    "    # stop at the closing html tag\n",
    "    end_tag = \"</{}>\".format(self.tag)\n",
    "    # add that tag to the end of file object\n",
    "    file_out.write(end_tag)"
   ]
  },
  {
   "cell_type": "markdown",
   "metadata": {},
   "source": [
    "#### Do the stuff (rendering)"
   ]
  },
  {
   "cell_type": "code",
   "execution_count": 13,
   "metadata": {
    "collapsed": false
   },
   "outputs": [],
   "source": [
    "def render(self, file_out, ind=\"\"):\n",
    "    #start rendering at first html tag\n",
    "    start_tag = \"<{}>\".format(self.tag)\n",
    "    # add that start tag to your output\n",
    "    file_out.write(start_tag)\n",
    "    \n",
    "    # grab things out of content\n",
    "    for stuff in self.content:\n",
    "        try:\n",
    "            # render it\n",
    "            stuff.render(file_out)\n",
    "        except AttributeError:\n",
    "                file_out.write(str(stuff))\n",
    "    # stop at the closing html tag\n",
    "    end_tag = \"</{}>\".format(self.tag)\n",
    "    # add that tag to the end of file object\n",
    "    file_out.write(end_tag)"
   ]
  },
  {
   "cell_type": "markdown",
   "metadata": {},
   "source": [
    "### Code for Part 1"
   ]
  },
  {
   "cell_type": "code",
   "execution_count": 14,
   "metadata": {
    "collapsed": false
   },
   "outputs": [],
   "source": [
    "# class for rendering html elements\n",
    "class Element: \n",
    "    \n",
    "    # define class attributes \n",
    "    tag = 'html'\n",
    "    indent = '    '\n",
    "    \n",
    "    def __init__(self, content=None):\n",
    "        # store content\n",
    "        self.content = []\n",
    "        # check for content\n",
    "        if content is not None:\n",
    "            self.content.append(content)\n",
    "    \n",
    "    def append(self, content):\n",
    "         self.content.append(content)\n",
    "    \n",
    "    def render(self, file_out, ind=\"\"):\n",
    "        #start rendering at first html tag\n",
    "        start_tag = \"<{}>\".format(self.tag)\n",
    "        # add that start tag to your output\n",
    "        file_out.write(start_tag)\n",
    "    \n",
    "         # grab things out of content\n",
    "        for stuff in self.content:\n",
    "            try:\n",
    "                # render it\n",
    "                stuff.render(file_out)\n",
    "            except AttributeError:\n",
    "                file_out.write(str(stuff))\n",
    "        # stop at the closing html tag\n",
    "        end_tag = \"</{}>\".format(self.tag)\n",
    "        # add that tag to the end of file object\n",
    "        file_out.write(end_tag)"
   ]
  },
  {
   "cell_type": "markdown",
   "metadata": {},
   "source": [
    "### Let's try it out"
   ]
  },
  {
   "cell_type": "markdown",
   "metadata": {},
   "source": [
    "- Download [sample_html.html](https://raw.githubusercontent.com/UWPCE-PythonCert/IntroPython2016a/master/Examples/Session07/html_render/sample_html.html)\n",
    "- Download [run_html_render.py](https://raw.githubusercontent.com/UWPCE-PythonCert/IntroPython2016a/master/Examples/Session07/html_render/run_html_render.py)\n",
    "- Save your script as html_render.py\n",
    "- From your directory: \n",
    "    \n",
    "    python3 ./run_html_render.py\n",
    "    "
   ]
  },
  {
   "cell_type": "markdown",
   "metadata": {},
   "source": [
    "    (py3env) summer@LinuxBox:~/python100_examples/Session7$ <html>Here is a paragraph of text -- there could be more of them, but this is enough  to show that we can do some textAnd here is another piece of text -- you should be able to add any number</html>"
   ]
  },
  {
   "cell_type": "markdown",
   "metadata": {},
   "source": [
    "## Part 2: Create Subclasses\n",
    "\n",
    "#### Goal\n",
    "Render more than just the content between the html tags"
   ]
  },
  {
   "cell_type": "markdown",
   "metadata": {},
   "source": [
    "### Subclasses\n",
    "\n",
    "Taken from this [tutorial](http://www.jesshamrick.com/2011/05/18/an-introduction-to-classes-and-inheritance-in-python/): \n",
    "\n",
    "Let's create a class called Pets: "
   ]
  },
  {
   "cell_type": "code",
   "execution_count": 15,
   "metadata": {
    "collapsed": true
   },
   "outputs": [],
   "source": [
    "class Pet():\n",
    "\n",
    "    def __init__(self, name, species):\n",
    "        self.name = name\n",
    "        self.species = species\n",
    "\n",
    "    def getName(self):\n",
    "        return self.name\n",
    "\n",
    "    def getSpecies(self):\n",
    "        return self.species\n",
    "\n",
    "    def __str__(self):\n",
    "        return \"%s is a %s\" % (self.name, self.species)"
   ]
  },
  {
   "cell_type": "markdown",
   "metadata": {},
   "source": [
    "Even though all pets share common, basic attributes, we can all agree that cats and dogs are different. It makes sense to keep them both under pets, to retain their common attributes, but we can create subclasses to further distinguish them. "
   ]
  },
  {
   "cell_type": "code",
   "execution_count": 16,
   "metadata": {
    "collapsed": true
   },
   "outputs": [],
   "source": [
    "class Dog(Pet):\n",
    "\n",
    "    def __init__(self, name, chases_cats):\n",
    "        Pet.__init__(self, name, \"Dog\")\n",
    "        self.chases_cats = chases_cats\n",
    "\n",
    "    def chasesCats(self):\n",
    "        return self.chases_cats"
   ]
  },
  {
   "cell_type": "code",
   "execution_count": 17,
   "metadata": {
    "collapsed": true
   },
   "outputs": [],
   "source": [
    "class Cat(Pet):\n",
    "\n",
    "    def __init__(self, name, hates_dogs):\n",
    "        Pet.__init__(self, name, \"Cat\")\n",
    "        self.hates_dogs = hates_dogs\n",
    "\n",
    "    def hatesDogs(self):\n",
    "        return self.hates_dogs"
   ]
  },
  {
   "cell_type": "markdown",
   "metadata": {},
   "source": [
    "#### Inheritance\n",
    "\n",
    "A subclass inherits all the attributes, methods, etc of the parent class. You can change alter these attributes to change the behavior, and you can add new ones. \n",
    "\n",
    "isinstance() is a function that can be used to see if an instance is from a certain type of class. "
   ]
  },
  {
   "cell_type": "code",
   "execution_count": 18,
   "metadata": {
    "collapsed": false
   },
   "outputs": [],
   "source": [
    "mister_pet = Pet(\"Mister\", \"Dog\")\n",
    "mister_dog = Dog(\"Mister\", True)"
   ]
  },
  {
   "cell_type": "code",
   "execution_count": 19,
   "metadata": {
    "collapsed": false
   },
   "outputs": [
    {
     "name": "stdout",
     "output_type": "stream",
     "text": [
      "Mister is a Dog\n"
     ]
    }
   ],
   "source": [
    "print (mister_pet)"
   ]
  },
  {
   "cell_type": "code",
   "execution_count": 20,
   "metadata": {
    "collapsed": false
   },
   "outputs": [
    {
     "name": "stdout",
     "output_type": "stream",
     "text": [
      "Mister is a Dog\n"
     ]
    }
   ],
   "source": [
    "print (mister_dog)"
   ]
  },
  {
   "cell_type": "code",
   "execution_count": 21,
   "metadata": {
    "collapsed": false
   },
   "outputs": [
    {
     "data": {
      "text/plain": [
       "True"
      ]
     },
     "execution_count": 21,
     "metadata": {},
     "output_type": "execute_result"
    }
   ],
   "source": [
    "isinstance(mister_pet, Pet)"
   ]
  },
  {
   "cell_type": "code",
   "execution_count": 22,
   "metadata": {
    "collapsed": false
   },
   "outputs": [
    {
     "data": {
      "text/plain": [
       "False"
      ]
     },
     "execution_count": 22,
     "metadata": {},
     "output_type": "execute_result"
    }
   ],
   "source": [
    "isinstance(mister_pet, Dog)"
   ]
  },
  {
   "cell_type": "code",
   "execution_count": 23,
   "metadata": {
    "collapsed": false
   },
   "outputs": [
    {
     "data": {
      "text/plain": [
       "True"
      ]
     },
     "execution_count": 23,
     "metadata": {},
     "output_type": "execute_result"
    }
   ],
   "source": [
    "isinstance(mister_dog, Pet)"
   ]
  },
  {
   "cell_type": "code",
   "execution_count": 24,
   "metadata": {
    "collapsed": false
   },
   "outputs": [
    {
     "data": {
      "text/plain": [
       "True"
      ]
     },
     "execution_count": 24,
     "metadata": {},
     "output_type": "execute_result"
    }
   ],
   "source": [
    "isinstance(mister_dog, Dog)"
   ]
  },
  {
   "cell_type": "markdown",
   "metadata": {},
   "source": [
    "### Create html, body and p subclasses"
   ]
  },
  {
   "cell_type": "code",
   "execution_count": 25,
   "metadata": {
    "collapsed": true
   },
   "outputs": [],
   "source": [
    "class Body(Element):\n",
    "    tag = 'body'\n",
    "\n",
    "class P(Element):\n",
    "    tag = 'p'\n",
    "    \n",
    "class html(Element):\n",
    "    tag = 'html'"
   ]
  },
  {
   "cell_type": "markdown",
   "metadata": {},
   "source": [
    "### Update render method to work for these other elements"
   ]
  },
  {
   "cell_type": "code",
   "execution_count": 28,
   "metadata": {
    "collapsed": false
   },
   "outputs": [],
   "source": [
    "class Element(object):\n",
    "\n",
    "    tag = 'html'  # shouldn't really be usable without properly subclassing\n",
    "    indent = '    '\n",
    "\n",
    "    def __init__(self, content=None, **attributes):\n",
    "\n",
    "        self.content = []\n",
    "        # adding attributes dictionary\n",
    "        self.attributes = attributes\n",
    "\n",
    "        if content is not None:\n",
    "            self.content.append(content)\n",
    "\n",
    "    def append(self, content):\n",
    "        self.content.append(content)\n",
    "\n",
    "    # added render tag method to deal with any type of tag at indentation level\n",
    "    def render_tag(self, current_ind):\n",
    "        # tag and then content for each class\n",
    "        attrs = \"\".join([' {}=\"{}\"'.format(key, val) for key, val in self.attributes.items()])\n",
    "        # indetation + tag + content\n",
    "        tag_str = \"{}<{}{}>\".format(current_ind, self.tag, attrs)\n",
    "        return tag_str\n",
    "\n",
    "    def render(self, file_out, current_ind=\"\"):\n",
    "        # render method now calls the render tag method instead of just a string\n",
    "        file_out.write(self.render_tag(current_ind))\n",
    "        file_out.write('\\n')\n",
    "        for con in self.content:\n",
    "            try:\n",
    "                file_out.write(current_ind + self.indent + con+\"\\n\")\n",
    "            except TypeError:\n",
    "                con.render(file_out, current_ind+self.indent)\n",
    "        # write out closing tag\n",
    "        file_out.write(\"{}</{}>\\n\".format(current_ind, self.tag))\n",
    "        \n",
    "class Body(Element):\n",
    "    tag = 'body'\n",
    "\n",
    "class P(Element):\n",
    "    tag = 'p'\n",
    "    \n",
    "class Html(Element):\n",
    "    tag = 'html'"
   ]
  },
  {
   "cell_type": "markdown",
   "metadata": {},
   "source": [
    "### Let's try out Step 2"
   ]
  },
  {
   "cell_type": "markdown",
   "metadata": {},
   "source": [
    "- Download [test_html_output2.html](https://github.com/UWPCE-PythonCert/IntroPython2016a/blob/master/Examples/Session07/html_render/test_html_output2.html)\n",
    "- Comment out Part 1 of run_html_render.py\n",
    "- Uncomment Part 2 of run_html_render.py"
   ]
  },
  {
   "cell_type": "code",
   "execution_count": null,
   "metadata": {
    "collapsed": true
   },
   "outputs": [],
   "source": [
    "summer@LinuxBox:~/python100_examples/Session7$ python3 ./run_html_render.py \n",
    "    <html>\n",
    "        <body>\n",
    "            <p>\n",
    "                Here is a paragraph of text -- there could be more of them, but this is enough  to show that we can do some text\n",
    "            </p>\n",
    "            <p>\n",
    "                And here is another piece of text -- you should be able to add any number\n",
    "            </p>\n",
    "        </body>\n",
    "    </html>"
   ]
  }
 ],
 "metadata": {
  "kernelspec": {
   "display_name": "Python 3",
   "language": "python",
   "name": "python3"
  },
  "language_info": {
   "codemirror_mode": {
    "name": "ipython",
    "version": 3
   },
   "file_extension": ".py",
   "mimetype": "text/x-python",
   "name": "python",
   "nbconvert_exporter": "python",
   "pygments_lexer": "ipython3",
   "version": "3.5.2"
  }
 },
 "nbformat": 4,
 "nbformat_minor": 0
}
